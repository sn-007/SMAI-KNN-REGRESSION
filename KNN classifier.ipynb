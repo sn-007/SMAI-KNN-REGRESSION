{
 "cells": [
  {
   "cell_type": "markdown",
   "id": "186be3d3",
   "metadata": {},
   "source": [
    "# KNN Classifier"
   ]
  },
  {
   "cell_type": "markdown",
   "id": "edeabff5",
   "metadata": {},
   "source": [
    "### Dataset"
   ]
  },
  {
   "cell_type": "code",
   "execution_count": 2,
   "id": "69cac090",
   "metadata": {},
   "outputs": [],
   "source": [
    "import numpy as np\n",
    "import pandas as pd\n",
    "from sklearn.model_selection import train_test_split"
   ]
  },
  {
   "cell_type": "code",
   "execution_count": 3,
   "id": "e0fa6912",
   "metadata": {},
   "outputs": [
    {
     "data": {
      "text/html": [
       "<div>\n",
       "<style scoped>\n",
       "    .dataframe tbody tr th:only-of-type {\n",
       "        vertical-align: middle;\n",
       "    }\n",
       "\n",
       "    .dataframe tbody tr th {\n",
       "        vertical-align: top;\n",
       "    }\n",
       "\n",
       "    .dataframe thead th {\n",
       "        text-align: right;\n",
       "    }\n",
       "</style>\n",
       "<table border=\"1\" class=\"dataframe\">\n",
       "  <thead>\n",
       "    <tr style=\"text-align: right;\">\n",
       "      <th></th>\n",
       "      <th>SepalLengthCm</th>\n",
       "      <th>SepalWidthCm</th>\n",
       "      <th>PetalLengthCm</th>\n",
       "      <th>PetalWidthCm</th>\n",
       "      <th>Species</th>\n",
       "    </tr>\n",
       "  </thead>\n",
       "  <tbody>\n",
       "    <tr>\n",
       "      <th>0</th>\n",
       "      <td>5.1</td>\n",
       "      <td>3.5</td>\n",
       "      <td>1.4</td>\n",
       "      <td>0.2</td>\n",
       "      <td>Iris-setosa</td>\n",
       "    </tr>\n",
       "    <tr>\n",
       "      <th>1</th>\n",
       "      <td>4.9</td>\n",
       "      <td>3.0</td>\n",
       "      <td>1.4</td>\n",
       "      <td>0.2</td>\n",
       "      <td>Iris-setosa</td>\n",
       "    </tr>\n",
       "    <tr>\n",
       "      <th>2</th>\n",
       "      <td>4.7</td>\n",
       "      <td>3.2</td>\n",
       "      <td>1.3</td>\n",
       "      <td>0.2</td>\n",
       "      <td>Iris-setosa</td>\n",
       "    </tr>\n",
       "    <tr>\n",
       "      <th>3</th>\n",
       "      <td>4.6</td>\n",
       "      <td>3.1</td>\n",
       "      <td>1.5</td>\n",
       "      <td>0.2</td>\n",
       "      <td>Iris-setosa</td>\n",
       "    </tr>\n",
       "    <tr>\n",
       "      <th>4</th>\n",
       "      <td>5.0</td>\n",
       "      <td>3.6</td>\n",
       "      <td>1.4</td>\n",
       "      <td>0.2</td>\n",
       "      <td>Iris-setosa</td>\n",
       "    </tr>\n",
       "    <tr>\n",
       "      <th>...</th>\n",
       "      <td>...</td>\n",
       "      <td>...</td>\n",
       "      <td>...</td>\n",
       "      <td>...</td>\n",
       "      <td>...</td>\n",
       "    </tr>\n",
       "    <tr>\n",
       "      <th>145</th>\n",
       "      <td>6.7</td>\n",
       "      <td>3.0</td>\n",
       "      <td>5.2</td>\n",
       "      <td>2.3</td>\n",
       "      <td>Iris-virginica</td>\n",
       "    </tr>\n",
       "    <tr>\n",
       "      <th>146</th>\n",
       "      <td>6.3</td>\n",
       "      <td>2.5</td>\n",
       "      <td>5.0</td>\n",
       "      <td>1.9</td>\n",
       "      <td>Iris-virginica</td>\n",
       "    </tr>\n",
       "    <tr>\n",
       "      <th>147</th>\n",
       "      <td>6.5</td>\n",
       "      <td>3.0</td>\n",
       "      <td>5.2</td>\n",
       "      <td>2.0</td>\n",
       "      <td>Iris-virginica</td>\n",
       "    </tr>\n",
       "    <tr>\n",
       "      <th>148</th>\n",
       "      <td>6.2</td>\n",
       "      <td>3.4</td>\n",
       "      <td>5.4</td>\n",
       "      <td>2.3</td>\n",
       "      <td>Iris-virginica</td>\n",
       "    </tr>\n",
       "    <tr>\n",
       "      <th>149</th>\n",
       "      <td>5.9</td>\n",
       "      <td>3.0</td>\n",
       "      <td>5.1</td>\n",
       "      <td>1.8</td>\n",
       "      <td>Iris-virginica</td>\n",
       "    </tr>\n",
       "  </tbody>\n",
       "</table>\n",
       "<p>150 rows × 5 columns</p>\n",
       "</div>"
      ],
      "text/plain": [
       "     SepalLengthCm  SepalWidthCm  PetalLengthCm  PetalWidthCm         Species\n",
       "0              5.1           3.5            1.4           0.2     Iris-setosa\n",
       "1              4.9           3.0            1.4           0.2     Iris-setosa\n",
       "2              4.7           3.2            1.3           0.2     Iris-setosa\n",
       "3              4.6           3.1            1.5           0.2     Iris-setosa\n",
       "4              5.0           3.6            1.4           0.2     Iris-setosa\n",
       "..             ...           ...            ...           ...             ...\n",
       "145            6.7           3.0            5.2           2.3  Iris-virginica\n",
       "146            6.3           2.5            5.0           1.9  Iris-virginica\n",
       "147            6.5           3.0            5.2           2.0  Iris-virginica\n",
       "148            6.2           3.4            5.4           2.3  Iris-virginica\n",
       "149            5.9           3.0            5.1           1.8  Iris-virginica\n",
       "\n",
       "[150 rows x 5 columns]"
      ]
     },
     "execution_count": 3,
     "metadata": {},
     "output_type": "execute_result"
    }
   ],
   "source": [
    "#Load data\n",
    "iris = pd.read_csv('Iris.csv')\n",
    "#data cleaning\n",
    "iris.drop(columns=\"Id\",inplace=True)\n",
    "iris"
   ]
  },
  {
   "cell_type": "code",
   "execution_count": 4,
   "id": "1ca8135b",
   "metadata": {},
   "outputs": [],
   "source": [
    "#features and labels\n",
    "X=iris.iloc[:,0:4].values\n",
    "y=iris.iloc[:,4].values\n",
    "\n",
    "#Train and Test split\n",
    "x_train,x_test,y_train,y_test=train_test_split(X,y,test_size=0.2,random_state=0)\n",
    "\n",
    "y_pred = np.zeros([len(y_test),])"
   ]
  },
  {
   "cell_type": "markdown",
   "id": "4abaaa39",
   "metadata": {},
   "source": [
    "# Code Starting here......................."
   ]
  },
  {
   "cell_type": "code",
   "execution_count": 5,
   "id": "0106e5b8",
   "metadata": {},
   "outputs": [],
   "source": [
    "#Giving lables for flowers in dataset test dataset\n",
    "for i in range(0,len(y_test)):\n",
    "    if(y_test[i]=='Iris-setosa'):\n",
    "        y_test[i]=1\n",
    "    elif (y_test[i]=='Iris-virginica'):\n",
    "        y_test[i]=2\n",
    "    elif (y_test[i]=='Iris-versicolor'):\n",
    "        y_test[i]=3\n",
    "    else:\n",
    "        print(\"You are a fool\")\n",
    "\n",
    "\n",
    "for i in range(0,len(y_train)):\n",
    "    if(y_train[i]=='Iris-setosa'):\n",
    "        y_train[i]=1\n",
    "    elif (y_train[i]=='Iris-virginica'):\n",
    "        y_train[i]=2\n",
    "    elif (y_train[i]=='Iris-versicolor'):\n",
    "        y_train[i]=3\n",
    "    else:\n",
    "        print(\"You are a fool\")\n",
    "\n",
    "y_train= y_train.astype('int16')\n",
    "y_test= y_test.astype('int16')\n",
    "y_pred= y_pred.astype('int16')\n",
    "    "
   ]
  },
  {
   "cell_type": "code",
   "execution_count": 18,
   "id": "2bb00b55",
   "metadata": {},
   "outputs": [],
   "source": [
    "# KNN K \n",
    "KNN=5\n",
    "for i in range(0,len(x_test)):\n",
    "    nbrs=np.zeros([len(x_train),2])\n",
    "    for j in range(0,len(x_train)):\n",
    "        distance=0\n",
    "        for k in range(0,len(x_train[0])):\n",
    "            distance += (x_train[j][k]-x_test[i][k])**2\n",
    "        nbrs[j]=[distance,y_train[j]]\n",
    "    \n",
    "    nbrs = nbrs[nbrs[:,0].argsort()]\n",
    "    nbrs = nbrs[:KNN]\n",
    "    c1=c2=c3=0;\n",
    "    for e in range(0,len(nbrs)):\n",
    "        if(nbrs[e][1]==1):\n",
    "            c1+=1\n",
    "        elif(nbrs[e][1]==2):\n",
    "            c2+=1\n",
    "        elif(nbrs[e][1]==3):\n",
    "            c3+=1\n",
    "        else:\n",
    "            print(\"You are fooled\")\n",
    "    if(c1==max(c1,c2,c3)):\n",
    "        y_pred[i]=1\n",
    "    elif(c2==max(c1,c2,c3)):\n",
    "        y_pred[i]=2\n",
    "    elif(c3==max(c1,c2,c3)):\n",
    "        y_pred[i]=3\n",
    "    else:\n",
    "        print(\"Fooled UP\")"
   ]
  },
  {
   "cell_type": "code",
   "execution_count": 19,
   "id": "f5323959",
   "metadata": {},
   "outputs": [
    {
     "name": "stdout",
     "output_type": "stream",
     "text": [
      "[2 3 1 2 1 2 1 3 3 3 2 3 3 3 2 1 3 3 1 1 2 3 1 1 2 1 1 3 3 1]\n",
      "[2 3 1 2 1 2 1 3 3 3 2 3 3 3 3 1 3 3 1 1 2 3 1 1 2 1 1 3 3 1]\n"
     ]
    }
   ],
   "source": [
    "print(y_pred)\n",
    "print(y_test)"
   ]
  },
  {
   "cell_type": "code",
   "execution_count": 20,
   "id": "a174545e",
   "metadata": {},
   "outputs": [
    {
     "name": "stdout",
     "output_type": "stream",
     "text": [
      "0.983192080250175\n"
     ]
    }
   ],
   "source": [
    "## Accuracy Priting\n",
    "import sklearn.metrics as metrics\n",
    "print(np.sqrt(metrics.accuracy_score(y_test, y_pred)))\n"
   ]
  },
  {
   "cell_type": "markdown",
   "id": "089b1e52",
   "metadata": {},
   "source": [
    "# Accuracy\n",
    "\n",
    "## AS you can see above accuracy score is 0.98\n",
    "\n",
    "\n"
   ]
  }
 ],
 "metadata": {
  "kernelspec": {
   "display_name": "Python 3 (ipykernel)",
   "language": "python",
   "name": "python3"
  },
  "language_info": {
   "codemirror_mode": {
    "name": "ipython",
    "version": 3
   },
   "file_extension": ".py",
   "mimetype": "text/x-python",
   "name": "python",
   "nbconvert_exporter": "python",
   "pygments_lexer": "ipython3",
   "version": "3.8.10"
  }
 },
 "nbformat": 4,
 "nbformat_minor": 5
}
